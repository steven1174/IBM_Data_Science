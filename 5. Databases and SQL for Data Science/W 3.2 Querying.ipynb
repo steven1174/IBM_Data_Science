{
  "nbformat": 4,
  "nbformat_minor": 0,
  "metadata": {
    "kernelspec": {
      "display_name": "Python",
      "language": "python",
      "name": "conda-env-python-py"
    },
    "language_info": {
      "codemirror_mode": {
        "name": "ipython",
        "version": 3
      },
      "file_extension": ".py",
      "mimetype": "text/x-python",
      "name": "python",
      "nbconvert_exporter": "python",
      "pygments_lexer": "ipython3",
      "version": "3.6.12"
    },
    "colab": {
      "name": "W 3.2 Querying.ipynb",
      "provenance": []
    }
  },
  "cells": [
    {
      "cell_type": "markdown",
      "metadata": {
        "id": "B5Cc0Puai2DZ"
      },
      "source": [
        "<a href=\"https://www.bigdatauniversity.com\"><img src = \"https://ibm.box.com/shared/static/ugcqz6ohbvff804xp84y4kqnvvk3bq1g.png\" width = 300, align = \"center\"></a>\n",
        "\n",
        "<h1 align=center><font size = 5>Lab: Access DB2 on Cloud using Python</font></h1>"
      ]
    },
    {
      "cell_type": "markdown",
      "metadata": {
        "id": "YDhrqMjSi2Dh"
      },
      "source": [
        "# Introduction\n",
        "\n",
        "This notebook illustrates how to access your database instance using Python by following the steps below:\n",
        "1. Import the `ibm_db` Python library\n",
        "1. Identify and enter the database connection credentials\n",
        "1. Create the database connection\n",
        "1. Create a table\n",
        "1. Insert data into the table\n",
        "1. Query data from the table\n",
        "1. Retrieve the result set into a pandas dataframe\n",
        "1. Close the database connection\n",
        "\n",
        "\n",
        "__Notice:__ Please follow the instructions given in the first Lab of this course to Create a database service instance of Db2 on Cloud.\n",
        "\n",
        "## Task 1: Import the `ibm_db` Python library\n",
        "\n",
        "The `ibm_db` [API ](https://pypi.python.org/pypi/ibm_db/) provides a variety of useful Python functions for accessing and manipulating data in an IBM® data server database, including functions for connecting to a database, preparing and issuing SQL statements, fetching rows from result sets, calling stored procedures, committing and rolling back transactions, handling errors, and retrieving metadata.\n",
        "\n",
        "\n",
        "We import the ibm_db library into our Python Application\n"
      ]
    },
    {
      "cell_type": "code",
      "metadata": {
        "id": "-MMB-TBjjeHE",
        "outputId": "93a419f4-cfbb-4256-cdcd-c1a9c3470f7f",
        "colab": {
          "base_uri": "https://localhost:8080/"
        }
      },
      "source": [
        "pip install ibm_db"
      ],
      "execution_count": 1,
      "outputs": [
        {
          "output_type": "stream",
          "text": [
            "Collecting ibm_db\n",
            "\u001b[?25l  Downloading https://files.pythonhosted.org/packages/5d/0d/684a44f2449b0b731932a11e98e48085be96af3f44c0b196d56a0ecfdd52/ibm_db-3.0.3.tar.gz (794kB)\n",
            "\r\u001b[K     |▍                               | 10kB 13.4MB/s eta 0:00:01\r\u001b[K     |▉                               | 20kB 17.6MB/s eta 0:00:01\r\u001b[K     |█▎                              | 30kB 11.5MB/s eta 0:00:01\r\u001b[K     |█▋                              | 40kB 8.7MB/s eta 0:00:01\r\u001b[K     |██                              | 51kB 4.3MB/s eta 0:00:01\r\u001b[K     |██▌                             | 61kB 4.8MB/s eta 0:00:01\r\u001b[K     |██▉                             | 71kB 4.9MB/s eta 0:00:01\r\u001b[K     |███▎                            | 81kB 5.0MB/s eta 0:00:01\r\u001b[K     |███▊                            | 92kB 5.6MB/s eta 0:00:01\r\u001b[K     |████▏                           | 102kB 5.7MB/s eta 0:00:01\r\u001b[K     |████▌                           | 112kB 5.7MB/s eta 0:00:01\r\u001b[K     |█████                           | 122kB 5.7MB/s eta 0:00:01\r\u001b[K     |█████▍                          | 133kB 5.7MB/s eta 0:00:01\r\u001b[K     |█████▊                          | 143kB 5.7MB/s eta 0:00:01\r\u001b[K     |██████▏                         | 153kB 5.7MB/s eta 0:00:01\r\u001b[K     |██████▋                         | 163kB 5.7MB/s eta 0:00:01\r\u001b[K     |███████                         | 174kB 5.7MB/s eta 0:00:01\r\u001b[K     |███████▍                        | 184kB 5.7MB/s eta 0:00:01\r\u001b[K     |███████▉                        | 194kB 5.7MB/s eta 0:00:01\r\u001b[K     |████████▎                       | 204kB 5.7MB/s eta 0:00:01\r\u001b[K     |████████▋                       | 215kB 5.7MB/s eta 0:00:01\r\u001b[K     |█████████                       | 225kB 5.7MB/s eta 0:00:01\r\u001b[K     |█████████▌                      | 235kB 5.7MB/s eta 0:00:01\r\u001b[K     |██████████                      | 245kB 5.7MB/s eta 0:00:01\r\u001b[K     |██████████▎                     | 256kB 5.7MB/s eta 0:00:01\r\u001b[K     |██████████▊                     | 266kB 5.7MB/s eta 0:00:01\r\u001b[K     |███████████▏                    | 276kB 5.7MB/s eta 0:00:01\r\u001b[K     |███████████▌                    | 286kB 5.7MB/s eta 0:00:01\r\u001b[K     |████████████                    | 296kB 5.7MB/s eta 0:00:01\r\u001b[K     |████████████▍                   | 307kB 5.7MB/s eta 0:00:01\r\u001b[K     |████████████▉                   | 317kB 5.7MB/s eta 0:00:01\r\u001b[K     |█████████████▏                  | 327kB 5.7MB/s eta 0:00:01\r\u001b[K     |█████████████▋                  | 337kB 5.7MB/s eta 0:00:01\r\u001b[K     |██████████████                  | 348kB 5.7MB/s eta 0:00:01\r\u001b[K     |██████████████▍                 | 358kB 5.7MB/s eta 0:00:01\r\u001b[K     |██████████████▉                 | 368kB 5.7MB/s eta 0:00:01\r\u001b[K     |███████████████▎                | 378kB 5.7MB/s eta 0:00:01\r\u001b[K     |███████████████▊                | 389kB 5.7MB/s eta 0:00:01\r\u001b[K     |████████████████                | 399kB 5.7MB/s eta 0:00:01\r\u001b[K     |████████████████▌               | 409kB 5.7MB/s eta 0:00:01\r\u001b[K     |█████████████████               | 419kB 5.7MB/s eta 0:00:01\r\u001b[K     |█████████████████▎              | 430kB 5.7MB/s eta 0:00:01\r\u001b[K     |█████████████████▊              | 440kB 5.7MB/s eta 0:00:01\r\u001b[K     |██████████████████▏             | 450kB 5.7MB/s eta 0:00:01\r\u001b[K     |██████████████████▋             | 460kB 5.7MB/s eta 0:00:01\r\u001b[K     |███████████████████             | 471kB 5.7MB/s eta 0:00:01\r\u001b[K     |███████████████████▍            | 481kB 5.7MB/s eta 0:00:01\r\u001b[K     |███████████████████▉            | 491kB 5.7MB/s eta 0:00:01\r\u001b[K     |████████████████████▏           | 501kB 5.7MB/s eta 0:00:01\r\u001b[K     |████████████████████▋           | 512kB 5.7MB/s eta 0:00:01\r\u001b[K     |█████████████████████           | 522kB 5.7MB/s eta 0:00:01\r\u001b[K     |█████████████████████▍          | 532kB 5.7MB/s eta 0:00:01\r\u001b[K     |█████████████████████▉          | 542kB 5.7MB/s eta 0:00:01\r\u001b[K     |██████████████████████▎         | 552kB 5.7MB/s eta 0:00:01\r\u001b[K     |██████████████████████▊         | 563kB 5.7MB/s eta 0:00:01\r\u001b[K     |███████████████████████         | 573kB 5.7MB/s eta 0:00:01\r\u001b[K     |███████████████████████▌        | 583kB 5.7MB/s eta 0:00:01\r\u001b[K     |████████████████████████        | 593kB 5.7MB/s eta 0:00:01\r\u001b[K     |████████████████████████▎       | 604kB 5.7MB/s eta 0:00:01\r\u001b[K     |████████████████████████▊       | 614kB 5.7MB/s eta 0:00:01\r\u001b[K     |█████████████████████████▏      | 624kB 5.7MB/s eta 0:00:01\r\u001b[K     |█████████████████████████▋      | 634kB 5.7MB/s eta 0:00:01\r\u001b[K     |██████████████████████████      | 645kB 5.7MB/s eta 0:00:01\r\u001b[K     |██████████████████████████▍     | 655kB 5.7MB/s eta 0:00:01\r\u001b[K     |██████████████████████████▉     | 665kB 5.7MB/s eta 0:00:01\r\u001b[K     |███████████████████████████▏    | 675kB 5.7MB/s eta 0:00:01\r\u001b[K     |███████████████████████████▋    | 686kB 5.7MB/s eta 0:00:01\r\u001b[K     |████████████████████████████    | 696kB 5.7MB/s eta 0:00:01\r\u001b[K     |████████████████████████████▌   | 706kB 5.7MB/s eta 0:00:01\r\u001b[K     |████████████████████████████▉   | 716kB 5.7MB/s eta 0:00:01\r\u001b[K     |█████████████████████████████▎  | 727kB 5.7MB/s eta 0:00:01\r\u001b[K     |█████████████████████████████▊  | 737kB 5.7MB/s eta 0:00:01\r\u001b[K     |██████████████████████████████  | 747kB 5.7MB/s eta 0:00:01\r\u001b[K     |██████████████████████████████▌ | 757kB 5.7MB/s eta 0:00:01\r\u001b[K     |███████████████████████████████ | 768kB 5.7MB/s eta 0:00:01\r\u001b[K     |███████████████████████████████▍| 778kB 5.7MB/s eta 0:00:01\r\u001b[K     |███████████████████████████████▊| 788kB 5.7MB/s eta 0:00:01\r\u001b[K     |████████████████████████████████| 798kB 5.7MB/s \n",
            "\u001b[?25hBuilding wheels for collected packages: ibm-db\n",
            "  Building wheel for ibm-db (setup.py) ... \u001b[?25l\u001b[?25hdone\n",
            "  Created wheel for ibm-db: filename=ibm_db-3.0.3-cp36-cp36m-linux_x86_64.whl size=40995767 sha256=c89e56e4c468e76f36821a6b0d7d2fbc5c81aea72ba68b14c7b2c7e72d73b2c6\n",
            "  Stored in directory: /root/.cache/pip/wheels/f2/0e/c0/55fd70ce0709cb4eed1b548ce0367531f931aea30ee0abfaf0\n",
            "Successfully built ibm-db\n",
            "Installing collected packages: ibm-db\n",
            "Successfully installed ibm-db-3.0.3\n"
          ],
          "name": "stdout"
        }
      ]
    },
    {
      "cell_type": "code",
      "metadata": {
        "id": "fY-jX-Lfi2Di"
      },
      "source": [
        "import ibm_db"
      ],
      "execution_count": 2,
      "outputs": []
    },
    {
      "cell_type": "markdown",
      "metadata": {
        "id": "hhnYpHqgi2Dj"
      },
      "source": [
        "When the command above completes, the `ibm_db` library is loaded in your notebook. \n",
        "\n",
        "\n",
        "## Task 2: Identify the database connection credentials\n",
        "\n",
        "Connecting to dashDB or DB2 database requires the following information:\n",
        "* Driver Name\n",
        "* Database name \n",
        "* Host DNS name or IP address \n",
        "* Host port\n",
        "* Connection protocol\n",
        "* User ID\n",
        "* User Password\n",
        "\n",
        "\n",
        "\n",
        "__Notice:__ To obtain credentials please refer to the instructions given in the first Lab of this course\n",
        "\n",
        "Now enter your database credentials below\n",
        "\n",
        "Replace the placeholder values in angular brackets <> below with your actual database credentials \n",
        "\n",
        "e.g. replace \"database\" with \"BLUDB\"\n",
        "\n"
      ]
    },
    {
      "cell_type": "code",
      "metadata": {
        "id": "xeVl6eAwi2Dj"
      },
      "source": [
        "#Replace the placeholder values with your actual Db2 hostname, username, and password:\n",
        "dsn_driver = \"{IBM DB2 ODBC DRIVER}\"\n",
        "dsn_database = \"BLUDB\"            # e.g. \"BLUDB\"\n",
        "dsn_hostname = \"dashdb-txn-sbox-yp-dal09-04.services.dal.bluemix.net\" # e.g.: \"dashdb-txn-sbox-yp-dal09-04.services.dal.bluemix.net\"\n",
        "dsn_port = \"50000\"                # e.g. \"50000\" \n",
        "dsn_protocol = \"TCPIP\"            # i.e. \"TCPIP\"\n",
        "dsn_uid = \"qdl90088\"        # e.g. \"abc12345\"\n",
        "dsn_pwd = \"rdpj^6p1xlq4wxt9\"      # e.g. \"7dBZ3wWt9XN6$o0J\""
      ],
      "execution_count": 4,
      "outputs": []
    },
    {
      "cell_type": "markdown",
      "metadata": {
        "id": "KNwNb7Igi2Dk"
      },
      "source": [
        "## Task 3: Create the database connection\n",
        "\n",
        "Ibm_db API uses the IBM Data Server Driver for ODBC and CLI APIs to connect to IBM DB2 and Informix.\n",
        "\n",
        "\n",
        "Create the database connection\n"
      ]
    },
    {
      "cell_type": "code",
      "metadata": {
        "jupyter": {
          "outputs_hidden": false
        },
        "id": "9MV-pNkhi2Dk",
        "outputId": "6c3fa630-c56a-49aa-a8a7-46379a3bbeb4",
        "colab": {
          "base_uri": "https://localhost:8080/"
        }
      },
      "source": [
        "#Create database connection\n",
        "#DO NOT MODIFY THIS CELL. Just RUN it with Shift + Enter\n",
        "dsn = (\n",
        "    \"DRIVER={0};\"\n",
        "    \"DATABASE={1};\"\n",
        "    \"HOSTNAME={2};\"\n",
        "    \"PORT={3};\"\n",
        "    \"PROTOCOL={4};\"\n",
        "    \"UID={5};\"\n",
        "    \"PWD={6};\").format(dsn_driver, dsn_database, dsn_hostname, dsn_port, dsn_protocol, dsn_uid, dsn_pwd)\n",
        "\n",
        "try:\n",
        "    conn = ibm_db.connect(dsn, \"\", \"\")\n",
        "    print (\"Connected to database: \", dsn_database, \"as user: \", dsn_uid, \"on host: \", dsn_hostname)\n",
        "\n",
        "except:\n",
        "    print (\"Unable to connect: \", ibm_db.conn_errormsg() )\n"
      ],
      "execution_count": 5,
      "outputs": [
        {
          "output_type": "stream",
          "text": [
            "Connected to database:  BLUDB as user:  qdl90088 on host:  dashdb-txn-sbox-yp-dal09-04.services.dal.bluemix.net\n"
          ],
          "name": "stdout"
        }
      ]
    },
    {
      "cell_type": "markdown",
      "metadata": {
        "id": "7UGmT3Zji2Dm"
      },
      "source": [
        "## Task 4: Create a table in the database\n",
        "\n",
        "In this step we will create a table in the database with following details:\n",
        "\n",
        "<img src = \"https://ibm.box.com/shared/static/ztd2cn4xkdoj5erlk4hhng39kbp63s1h.jpg\" align=\"center\">\n"
      ]
    },
    {
      "cell_type": "code",
      "metadata": {
        "jupyter": {
          "outputs_hidden": false
        },
        "id": "kLXN1qCai2Dm"
      },
      "source": [
        "#Lets first drop the table INSTRUCTOR in case it exists from a previous attempt\n",
        "dropQuery = \"drop table INSTRUCTOR\"\n",
        "\n",
        "#Now execute the drop statment\n",
        "dropStmt = ibm_db.exec_immediate(conn, dropQuery)"
      ],
      "execution_count": 6,
      "outputs": []
    },
    {
      "cell_type": "markdown",
      "metadata": {
        "id": "KQEvNHBoi2Dn"
      },
      "source": [
        "## Dont worry if you get this error:\n",
        "If you see an exception/error similar to the following, indicating that INSTRUCTOR is an undefined name, that's okay. It just implies that the INSTRUCTOR table does not exist in the table - which would be the case if you had not created it previously.\n",
        "\n",
        "Exception: [IBM][CLI Driver][DB2/LINUXX8664] SQL0204N  \"ABC12345.INSTRUCTOR\" is an undefined name.  SQLSTATE=42704 SQLCODE=-204"
      ]
    },
    {
      "cell_type": "code",
      "metadata": {
        "jupyter": {
          "outputs_hidden": false
        },
        "id": "AivVF2FBi2Dn"
      },
      "source": [
        "#Construct the Create Table DDL statement - replace the ... with rest of the statement\n",
        "createQuery = \"create table INSTRUCTOR(ID INTEGER PRIMARY KEY NOT NULL, FNAME VARCHAR(20),\\\n",
        "                LNAME VARCHAR(20), CITY VARCHAR(20), CCODE CHAR(2))\"\n",
        "\n",
        "#Now fill in the name of the method and execute the statement\n",
        "createStmt = ibm_db.exec_immediate(conn, createQuery)"
      ],
      "execution_count": 7,
      "outputs": []
    },
    {
      "cell_type": "markdown",
      "metadata": {
        "id": "PeYqpn7ni2Dn"
      },
      "source": [
        "Double-click __here__ for the solution.\n",
        "\n",
        "<!-- Hint:\n",
        "\n",
        "createQuery = \"create table INSTRUCTOR(ID INTEGER PRIMARY KEY NOT NULL, FNAME VARCHAR(20), LNAME VARCHAR(20), CITY VARCHAR(20), CCODE CHAR(2))\"\n",
        "\n",
        "createStmt = ibm_db.exec_immediate(conn,createQuery)\n",
        "\n",
        "\n",
        "-->"
      ]
    },
    {
      "cell_type": "markdown",
      "metadata": {
        "id": "Duladnvmi2Do"
      },
      "source": [
        "## Task 5: Insert data into the table\n",
        "\n",
        "In this step we will insert some rows of data into the table. \n",
        "\n",
        "The INSTRUCTOR table we created in the previous step contains 3 rows of data:\n",
        "\n",
        "<img src=\"https://ibm.box.com/shared/static/j5yjassxefrjknivfpekj7698dqe4d8i.jpg\" align=\"center\">\n",
        "\n",
        "We will start by inserting just the first row of data, i.e. for instructor Rav Ahuja \n"
      ]
    },
    {
      "cell_type": "code",
      "metadata": {
        "jupyter": {
          "outputs_hidden": false
        },
        "id": "tLaERGtSi2Do"
      },
      "source": [
        "#Construct the query - replace ... with the insert statement\n",
        "insertQuery = \"insert into INSTRUCTOR values (1,'Rav','Ahuja','TORONTO','CA')\"\n",
        "\n",
        "#execute the insert statement\n",
        "insertStmt = ibm_db.exec_immediate(conn, insertQuery)"
      ],
      "execution_count": 8,
      "outputs": []
    },
    {
      "cell_type": "markdown",
      "metadata": {
        "id": "LkZRfli9i2Do"
      },
      "source": [
        "Double-click __here__ for the solution.\n",
        "\n",
        "<!-- Hint:\n",
        "\n",
        "insertQuery = \"insert into INSTRUCTOR values (1, 'Rav', 'Ahuja', 'TORONTO', 'CA')\"\n",
        "\n",
        "insertStmt = ibm_db.exec_immediate(conn, insertQuery)\n",
        "\n",
        "\n",
        "-->"
      ]
    },
    {
      "cell_type": "markdown",
      "metadata": {
        "id": "oLvuBs0Gi2Dp"
      },
      "source": [
        "Now use a single query to insert the remaining two rows of data"
      ]
    },
    {
      "cell_type": "code",
      "metadata": {
        "jupyter": {
          "outputs_hidden": false
        },
        "id": "HDPRsPTzi2Dp"
      },
      "source": [
        "#replace ... with the insert statement that inerts the remaining two rows of data\n",
        "insertQuery2 = \"insert into INSTRUCTOR values (2,'Raul','Chong','Markham','CA'),\\\n",
        "                (3,'Hima','Vasudevan','Chicago','US')\"\n",
        "\n",
        "#execute the statement\n",
        "insertStmt2 = ibm_db.exec_immediate(conn, insertQuery2)"
      ],
      "execution_count": 9,
      "outputs": []
    },
    {
      "cell_type": "markdown",
      "metadata": {
        "id": "pma3hpXji2Dp"
      },
      "source": [
        "Double-click __here__ for the solution.\n",
        "\n",
        "<!-- Hint:\n",
        "\n",
        "insertQuery2 = \"insert into INSTRUCTOR values (2, 'Raul', 'Chong', 'Markham', 'CA'), (3, 'Hima', 'Vasudevan', 'Chicago', 'US')\"\n",
        "\n",
        "insertStmt2 = ibm_db.exec_immediate(conn, insertQuery2)\n",
        "\n",
        "\n",
        "-->"
      ]
    },
    {
      "cell_type": "markdown",
      "metadata": {
        "id": "HPqUM9vHi2Dq"
      },
      "source": [
        "## Task 6: Query data in the table\n",
        "\n",
        "In this step we will retrieve data we inserted into the INSTRUCTOR table. \n"
      ]
    },
    {
      "cell_type": "code",
      "metadata": {
        "jupyter": {
          "outputs_hidden": false
        },
        "id": "5JNp0v8Xi2Dr",
        "outputId": "95ce41c6-c164-4ed9-fb04-8f99b0f3608c",
        "colab": {
          "base_uri": "https://localhost:8080/"
        }
      },
      "source": [
        "#Construct the query that retrieves all rows from the INSTRUCTOR table\n",
        "selectQuery = \"select * from INSTRUCTOR\"\n",
        "\n",
        "#Execute the statement\n",
        "selectStmt = ibm_db.exec_immediate(conn, selectQuery)\n",
        "\n",
        "#Fetch the Dictionary (for the first row only) - replace ... with your code\n",
        "ibm_db.fetch_both(selectStmt)"
      ],
      "execution_count": 10,
      "outputs": [
        {
          "output_type": "execute_result",
          "data": {
            "text/plain": [
              "{0: 1,\n",
              " 1: 'Rav',\n",
              " 2: 'Ahuja',\n",
              " 3: 'TORONTO',\n",
              " 4: 'CA',\n",
              " 'CCODE': 'CA',\n",
              " 'CITY': 'TORONTO',\n",
              " 'FNAME': 'Rav',\n",
              " 'ID': 1,\n",
              " 'LNAME': 'Ahuja'}"
            ]
          },
          "metadata": {
            "tags": []
          },
          "execution_count": 10
        }
      ]
    },
    {
      "cell_type": "markdown",
      "metadata": {
        "id": "ShqifjpPi2Dr"
      },
      "source": [
        "Double-click __here__ for the solution.\n",
        "\n",
        "<!-- Hint:\n",
        "\n",
        "#Construct the query that retrieves all rows from the INSTRUCTOR table\n",
        "selectQuery = \"select * from INSTRUCTOR\"\n",
        "\n",
        "#Execute the statement\n",
        "selectStmt = ibm_db.exec_immediate(conn, selectQuery)\n",
        "\n",
        "#Fetch the Dictionary (for the first row only)\n",
        "ibm_db.fetch_both(selectStmt)\n",
        "\n",
        "-->"
      ]
    },
    {
      "cell_type": "code",
      "metadata": {
        "jupyter": {
          "outputs_hidden": false
        },
        "id": "9zk0r1uFi2Ds",
        "outputId": "3b1f77a1-307a-4d7c-f36d-b910f3640084",
        "colab": {
          "base_uri": "https://localhost:8080/"
        }
      },
      "source": [
        "#Fetch the rest of the rows and print the ID and FNAME for those rows\n",
        "while ibm_db.fetch_row(selectStmt) != False:\n",
        "   print (\" ID:\",  ibm_db.result(selectStmt, 0), \" FNAME:\",  ibm_db.result(selectStmt, \"FNAME\"))"
      ],
      "execution_count": 11,
      "outputs": [
        {
          "output_type": "stream",
          "text": [
            " ID: 2  FNAME: Raul\n",
            " ID: 3  FNAME: Hima\n"
          ],
          "name": "stdout"
        }
      ]
    },
    {
      "cell_type": "markdown",
      "metadata": {
        "id": "CiT8mRG2i2Ds"
      },
      "source": [
        "Double-click __here__ for the solution.\n",
        "\n",
        "<!-- Hint:\n",
        "\n",
        "#Fetch the rest of the rows and print the ID and FNAME for those rows\n",
        "while ibm_db.fetch_row(selectStmt) != False:\n",
        "    print (\" ID:\",  ibm_db.result(selectStmt, 0), \" FNAME:\",  ibm_db.result(selectStmt, \"FNAME\"))\n",
        "\n",
        "-->"
      ]
    },
    {
      "cell_type": "markdown",
      "metadata": {
        "id": "TyuIvpoei2Ds"
      },
      "source": [
        "Bonus: now write and execute an update statement that changes the Rav's CITY to MOOSETOWN "
      ]
    },
    {
      "cell_type": "code",
      "metadata": {
        "jupyter": {
          "outputs_hidden": false
        },
        "id": "L_ktg8JIi2Dt"
      },
      "source": [
        "#Enter your code below\n",
        "updateQuery = \"update INSTRUCTOR set CITY = 'MOOSETOWN' where FNAME = 'Rav'\"\n",
        "updateStmt = ibm_db.exec_immediate(conn, updateQuery)"
      ],
      "execution_count": 12,
      "outputs": []
    },
    {
      "cell_type": "markdown",
      "metadata": {
        "id": "puMqu5Isi2Dt"
      },
      "source": [
        "Double-click __here__ for the solution.\n",
        "\n",
        "<!-- Hint:\n",
        "\n",
        "updateQuery = \"update INSTRUCTOR set CITY='MOOSETOWN' where FNAME='Rav'\"\n",
        "updateStmt = ibm_db.exec_immediate(conn, updateQuery))\n",
        "\n",
        "-->"
      ]
    },
    {
      "cell_type": "markdown",
      "metadata": {
        "id": "u8L6i4DHi2Dt"
      },
      "source": [
        "## Task 7: Retrieve data into Pandas \n",
        "\n",
        "In this step we will retrieve the contents of the INSTRUCTOR table into a Pandas dataframe"
      ]
    },
    {
      "cell_type": "code",
      "metadata": {
        "id": "B0e5rR27i2Dt"
      },
      "source": [
        "import pandas as pd\n",
        "import ibm_db_dbi"
      ],
      "execution_count": 13,
      "outputs": []
    },
    {
      "cell_type": "code",
      "metadata": {
        "id": "KxsJSHE8i2Du"
      },
      "source": [
        "#connection for pandas\n",
        "pconn = ibm_db_dbi.Connection(conn)"
      ],
      "execution_count": null,
      "outputs": []
    },
    {
      "cell_type": "code",
      "metadata": {
        "jupyter": {
          "outputs_hidden": false
        },
        "id": "uX2N0xuti2Du",
        "outputId": "aee0b9b3-93a6-4f3e-f75c-af44e0a5929a"
      },
      "source": [
        "#query statement to retrieve all rows in INSTRUCTOR table\n",
        "selectQuery = \"select * from INSTRUCTOR\"\n",
        "\n",
        "#retrieve the query results into a pandas dataframe\n",
        "pdf = pd.read_sql(selectQuery, pconn)\n",
        "\n",
        "#print just the LNAME for first row in the pandas data frame\n",
        "pdf.LNAME[0]"
      ],
      "execution_count": null,
      "outputs": [
        {
          "output_type": "execute_result",
          "data": {
            "text/plain": [
              "'Ahuja'"
            ]
          },
          "metadata": {
            "tags": []
          },
          "execution_count": 46
        }
      ]
    },
    {
      "cell_type": "code",
      "metadata": {
        "jupyter": {
          "outputs_hidden": false
        },
        "id": "TCkvXRVfi2Du",
        "outputId": "64133941-c999-4917-e53a-50cd14f29353"
      },
      "source": [
        "#print the entire data frame\n",
        "pdf"
      ],
      "execution_count": null,
      "outputs": [
        {
          "output_type": "execute_result",
          "data": {
            "text/html": [
              "<div>\n",
              "<style scoped>\n",
              "    .dataframe tbody tr th:only-of-type {\n",
              "        vertical-align: middle;\n",
              "    }\n",
              "\n",
              "    .dataframe tbody tr th {\n",
              "        vertical-align: top;\n",
              "    }\n",
              "\n",
              "    .dataframe thead th {\n",
              "        text-align: right;\n",
              "    }\n",
              "</style>\n",
              "<table border=\"1\" class=\"dataframe\">\n",
              "  <thead>\n",
              "    <tr style=\"text-align: right;\">\n",
              "      <th></th>\n",
              "      <th>ID</th>\n",
              "      <th>FNAME</th>\n",
              "      <th>LNAME</th>\n",
              "      <th>CITY</th>\n",
              "      <th>CCODE</th>\n",
              "    </tr>\n",
              "  </thead>\n",
              "  <tbody>\n",
              "    <tr>\n",
              "      <th>0</th>\n",
              "      <td>1</td>\n",
              "      <td>Rav</td>\n",
              "      <td>Ahuja</td>\n",
              "      <td>MOOSETOWN</td>\n",
              "      <td>CA</td>\n",
              "    </tr>\n",
              "    <tr>\n",
              "      <th>1</th>\n",
              "      <td>2</td>\n",
              "      <td>Raul</td>\n",
              "      <td>Chong</td>\n",
              "      <td>Markham</td>\n",
              "      <td>CA</td>\n",
              "    </tr>\n",
              "    <tr>\n",
              "      <th>2</th>\n",
              "      <td>3</td>\n",
              "      <td>Hima</td>\n",
              "      <td>Vasudevan</td>\n",
              "      <td>Chicago</td>\n",
              "      <td>US</td>\n",
              "    </tr>\n",
              "  </tbody>\n",
              "</table>\n",
              "</div>"
            ],
            "text/plain": [
              "   ID FNAME      LNAME       CITY CCODE\n",
              "0   1   Rav      Ahuja  MOOSETOWN    CA\n",
              "1   2  Raul      Chong    Markham    CA\n",
              "2   3  Hima  Vasudevan    Chicago    US"
            ]
          },
          "metadata": {
            "tags": []
          },
          "execution_count": 47
        }
      ]
    },
    {
      "cell_type": "markdown",
      "metadata": {
        "id": "U4-ZZZZKi2Dv"
      },
      "source": [
        "Once the data is in a Pandas dataframe, you can do the typical pandas operations on it. \n",
        "\n",
        "For example you can use the shape method to see how many rows and columns are in the dataframe"
      ]
    },
    {
      "cell_type": "code",
      "metadata": {
        "jupyter": {
          "outputs_hidden": false
        },
        "id": "XqyO1qW1i2Dv",
        "outputId": "cdac5047-fbb6-432c-b549-44cb609165e3"
      },
      "source": [
        "pdf.shape"
      ],
      "execution_count": null,
      "outputs": [
        {
          "output_type": "execute_result",
          "data": {
            "text/plain": [
              "(3, 5)"
            ]
          },
          "metadata": {
            "tags": []
          },
          "execution_count": 48
        }
      ]
    },
    {
      "cell_type": "markdown",
      "metadata": {
        "id": "8LeQTTsbi2Dv"
      },
      "source": [
        "## Task 8: Close the Connection\n",
        "We free all resources by closing the connection. Remember that it is always important to close connections so that we can avoid unused connections taking up resources.\n"
      ]
    },
    {
      "cell_type": "code",
      "metadata": {
        "jupyter": {
          "outputs_hidden": false
        },
        "id": "VVPHM75qi2Dw",
        "outputId": "3d694136-3833-48de-dbdc-f7d3d60f405b"
      },
      "source": [
        "ibm_db.close(conn)"
      ],
      "execution_count": null,
      "outputs": [
        {
          "output_type": "execute_result",
          "data": {
            "text/plain": [
              "True"
            ]
          },
          "metadata": {
            "tags": []
          },
          "execution_count": 49
        }
      ]
    },
    {
      "cell_type": "markdown",
      "metadata": {
        "id": "214Xzb6Ui2Dw"
      },
      "source": [
        "## Summary\n",
        "\n",
        "In this tutorial you established a connection to a database instance of DB2 Warehouse on Cloud from a Python notebook using ibm_db API. Then created a table and insert a few rows of data into it. Then queried the data. You also retrieved the data into a pandas dataframe."
      ]
    },
    {
      "cell_type": "markdown",
      "metadata": {
        "id": "IKmiIzzRi2Dw"
      },
      "source": [
        "Copyright &copy; 2017-2018 [cognitiveclass.ai](cognitiveclass.ai?utm_source=bducopyrightlink&utm_medium=dswb&utm_campaign=bdu). This notebook and its source code are released under the terms of the [MIT License](https://bigdatauniversity.com/mit-license/).\n"
      ]
    },
    {
      "cell_type": "code",
      "metadata": {
        "id": "H4uIOisIi2Dw"
      },
      "source": [
        ""
      ],
      "execution_count": null,
      "outputs": []
    }
  ]
}